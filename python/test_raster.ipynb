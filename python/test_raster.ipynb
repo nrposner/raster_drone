{
 "cells": [
  {
   "cell_type": "code",
   "execution_count": 1,
   "id": "523692f3-29e1-435c-96b7-83f3fdf73aa2",
   "metadata": {},
   "outputs": [],
   "source": [
    "import raster_drone as rd"
   ]
  },
  {
   "cell_type": "code",
   "execution_count": 2,
   "id": "a0a757d3-af90-419d-a8e9-25a759bca572",
   "metadata": {},
   "outputs": [
    {
     "name": "stdout",
     "output_type": "stream",
     "text": [
      "Image loaded successfully with dimensions: 256x234\n",
      "CPU times: user 3.93 ms, sys: 896 μs, total: 4.83 ms\n",
      "Wall time: 4.81 ms\n",
      "Extracted 599 initial coordinates.\n",
      "Sampled down to 100 coordinates using a grid.\n"
     ]
    }
   ],
   "source": [
    "%%time \n",
    "\n",
    "rd.process_image(\"teacup.jpg\", 100, 0.01, output_path = 'output/teacup.png')"
   ]
  },
  {
   "cell_type": "code",
   "execution_count": null,
   "id": "bc0c91b2-06f6-4e5f-88d3-574f83a03c73",
   "metadata": {},
   "outputs": [],
   "source": []
  },
  {
   "cell_type": "code",
   "execution_count": null,
   "id": "9a8b3e22-f8b3-4622-b4da-c6d21502522d",
   "metadata": {},
   "outputs": [],
   "source": []
  }
 ],
 "metadata": {
  "kernelspec": {
   "display_name": "Python 3 (ipykernel)",
   "language": "python",
   "name": "python3"
  },
  "language_info": {
   "codemirror_mode": {
    "name": "ipython",
    "version": 3
   },
   "file_extension": ".py",
   "mimetype": "text/x-python",
   "name": "python",
   "nbconvert_exporter": "python",
   "pygments_lexer": "ipython3",
   "version": "3.12.10"
  }
 },
 "nbformat": 4,
 "nbformat_minor": 5
}
