{
 "cells": [
  {
   "cell_type": "code",
   "execution_count": 1,
   "id": "523692f3-29e1-435c-96b7-83f3fdf73aa2",
   "metadata": {},
   "outputs": [],
   "source": [
    "import raster_drone as rd\n",
    "import matplotlib.pyplot as plt\n",
    "import numpy as np"
   ]
  },
  {
   "cell_type": "code",
   "execution_count": 2,
   "id": "a0a757d3-af90-419d-a8e9-25a759bca572",
   "metadata": {},
   "outputs": [
    {
     "name": "stdout",
     "output_type": "stream",
     "text": [
      "CPU times: user 3.83 ms, sys: 899 μs, total: 4.73 msImage loaded successfully with dimensions: 256x234\n",
      "\n",
      "Wall time: 4.71 ms\n",
      "Extracted 599 initial coordinates.\n",
      "Sampled down to 100 coordinates using a grid.\n"
     ]
    }
   ],
   "source": [
    "%%time \n",
    "\n",
    "rd.process_image(\"teacup.jpg\", 100, 0.01, output_path = 'output/teacup.png')"
   ]
  },
  {
   "cell_type": "code",
   "execution_count": null,
   "id": "bc0c91b2-06f6-4e5f-88d3-574f83a03c73",
   "metadata": {},
   "outputs": [],
   "source": []
  },
  {
   "cell_type": "code",
   "execution_count": null,
   "id": "9a8b3e22-f8b3-4622-b4da-c6d21502522d",
   "metadata": {},
   "outputs": [],
   "source": []
  }
 ],
 "metadata": {
  "kernelspec": {
   "display_name": "Python 3 (ipykernel)",
   "language": "python",
   "name": "python3"
  },
  "language_info": {
   "codemirror_mode": {
    "name": "ipython",
    "version": 3
   },
   "file_extension": ".py",
   "mimetype": "text/x-python",
   "name": "python",
   "nbconvert_exporter": "python",
   "pygments_lexer": "ipython3",
   "version": "3.12.10"
  }
 },
 "nbformat": 4,
 "nbformat_minor": 5
}
