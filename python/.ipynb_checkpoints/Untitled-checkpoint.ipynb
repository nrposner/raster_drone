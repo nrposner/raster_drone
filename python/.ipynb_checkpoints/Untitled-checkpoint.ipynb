{
 "cells": [
  {
   "cell_type": "code",
   "execution_count": 1,
   "id": "523692f3-29e1-435c-96b7-83f3fdf73aa2",
   "metadata": {},
   "outputs": [],
   "source": [
    "import raster_drone as rd\n",
    "import matplotlib.pyplot as plt\n",
    "import numpy as np"
   ]
  },
  {
   "cell_type": "code",
   "execution_count": 3,
   "id": "a0a757d3-af90-419d-a8e9-25a759bca572",
   "metadata": {},
   "outputs": [
    {
     "name": "stdout",
     "output_type": "stream",
     "text": [
      "Image loaded successfully with dimensions: 1000x1080\n",
      "Extracted 47 initial coordinates.\n",
      "Sampled down to 47 coordinates using a grid.\n"
     ]
    }
   ],
   "source": [
    "rd.process_image(\"teacup.jpg\", 10000, 0.30, 'farthest')"
   ]
  },
  {
   "cell_type": "code",
   "execution_count": 5,
   "id": "3f1991ad-3075-4e2c-b5ca-bcc872cf5ac0",
   "metadata": {},
   "outputs": [
    {
     "data": {
      "text/plain": [
       "1080"
      ]
     },
     "execution_count": 5,
     "metadata": {},
     "output_type": "execute_result"
    }
   ],
   "source": [
    "len(vals[0])"
   ]
  },
  {
   "cell_type": "code",
   "execution_count": 9,
   "id": "3dcf32dd-e3b7-43a5-98cd-bf593228772c",
   "metadata": {},
   "outputs": [
    {
     "data": {
      "text/plain": [
       "numpy.ndarray"
      ]
     },
     "execution_count": 9,
     "metadata": {},
     "output_type": "execute_result"
    }
   ],
   "source": [
    "type(vals)"
   ]
  },
  {
   "cell_type": "code",
   "execution_count": null,
   "id": "35291f8f-db9d-415a-a56d-7ceb4d9d58b7",
   "metadata": {},
   "outputs": [],
   "source": []
  }
 ],
 "metadata": {
  "kernelspec": {
   "display_name": "Python 3 (ipykernel)",
   "language": "python",
   "name": "python3"
  },
  "language_info": {
   "codemirror_mode": {
    "name": "ipython",
    "version": 3
   },
   "file_extension": ".py",
   "mimetype": "text/x-python",
   "name": "python",
   "nbconvert_exporter": "python",
   "pygments_lexer": "ipython3",
   "version": "3.12.10"
  }
 },
 "nbformat": 4,
 "nbformat_minor": 5
}
